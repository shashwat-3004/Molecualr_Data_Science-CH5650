{
 "cells": [
  {
   "cell_type": "code",
   "execution_count": 1,
   "id": "2d9f5bf0",
   "metadata": {},
   "outputs": [],
   "source": [
    "from rdkit import Chem\n",
    "import numpy as np\n",
    "import pandas as pd\n",
    "import glob\n"
   ]
  },
  {
   "cell_type": "markdown",
   "id": "72e6fc6c",
   "metadata": {},
   "source": [
    "# File reading and using the rdkit package for extracting data"
   ]
  },
  {
   "cell_type": "code",
   "execution_count": 2,
   "id": "66a91bdb",
   "metadata": {},
   "outputs": [],
   "source": [
    "file=\"C:\\\\Users\\\\ASUS\\\\Desktop\\\\Courses-IITM\\\\ch5650\\\\Polymer_data\""
   ]
  },
  {
   "cell_type": "code",
   "execution_count": 5,
   "id": "209c3dfa",
   "metadata": {},
   "outputs": [],
   "source": [
    "folder_path='C:\\\\Users\\\\ASUS\\\\Desktop\\\\Courses-IITM\\\\ch5650\\\\Polymer_data'\n",
    "file_list = glob.glob(folder_path + \"\\\\*.mol\")"
   ]
  },
  {
   "cell_type": "code",
   "execution_count": 6,
   "id": "5cf7d6f3",
   "metadata": {
    "scrolled": true
   },
   "outputs": [],
   "source": [
    "\n",
    "for i in range(0,len(file_list)):    \n",
    "    m_try=Chem.MolFromMolFile(file_list[i])\n",
    "    num=[]\n",
    "    for atom in m_try.GetAtoms():\n",
    "        if atom.GetSymbol()==\"*\":\n",
    "            num.append([0,0,0,0,0,0,0,0,0,0,1,atom.GetTotalNumHs(),atom.GetImplicitValence(),atom.GetDegree(),atom.GetIsAromatic()])\n",
    "        \n",
    "        if atom.GetSymbol()==\"Br\":\n",
    "            num.append([1,0,0,0,0,0,0,0,0,0,0,atom.GetTotalNumHs(),atom.GetImplicitValence(),atom.GetDegree(),atom.GetIsAromatic()])\n",
    "        \n",
    "        if atom.GetSymbol()==\"C\":\n",
    "            num.append([0,1,0,0,0,0,0,0,0,0,0,atom.GetTotalNumHs(),atom.GetImplicitValence(),atom.GetDegree(),atom.GetIsAromatic()])\n",
    "        \n",
    "        if atom.GetSymbol()==\"Cl\":\n",
    "            num.append([0,0,1,0,0,0,0,0,0,0,0,atom.GetTotalNumHs(),atom.GetImplicitValence(),atom.GetDegree(),atom.GetIsAromatic()])\n",
    "\n",
    "        if atom.GetSymbol()==\"F\":\n",
    "            num.append([0,0,0,1,0,0,0,0,0,0,0,atom.GetTotalNumHs(),atom.GetImplicitValence(),atom.GetDegree(),atom.GetIsAromatic()])\n",
    "\n",
    "        if atom.GetSymbol()==\"Li\":\n",
    "            num.append([0,0,0,0,1,0,0,0,0,0,0,atom.GetTotalNumHs(),atom.GetImplicitValence(),atom.GetDegree(),atom.GetIsAromatic()])\n",
    "   \n",
    "        if atom.GetSymbol()==\"N\":\n",
    "            num.append([0,0,0,0,0,1,0,0,0,0,0,atom.GetTotalNumHs(),atom.GetImplicitValence(),atom.GetDegree(),atom.GetIsAromatic()])\n",
    "\n",
    "        if atom.GetSymbol()==\"O\":\n",
    "            num.append([0,0,0,0,0,0,1,0,0,0,0,atom.GetTotalNumHs(),atom.GetImplicitValence(),atom.GetDegree(),atom.GetIsAromatic()])\n",
    "\n",
    "        if atom.GetSymbol()==\"P\":\n",
    "            num.append([0,0,0,0,0,0,0,1,0,0,0,atom.GetTotalNumHs(),atom.GetImplicitValence(),atom.GetDegree(),atom.GetIsAromatic()])\n",
    "\n",
    "        if atom.GetSymbol()==\"S\":\n",
    "            num.append([0,0,0,0,0,0,0,0,1,0,0,atom.GetTotalNumHs(),atom.GetImplicitValence(),atom.GetDegree(),atom.GetIsAromatic()])\n",
    "\n",
    "        if atom.GetSymbol()==\"Si\":\n",
    "            num.append([0,0,0,0,0,0,0,0,0,1,0,atom.GetTotalNumHs(),atom.GetImplicitValence(),atom.GetDegree(),atom.GetIsAromatic()])\n",
    "\n",
    "    dataset=pd.DataFrame(np.array(num))\n",
    "    dataset.columns=[\"enocde_1\",\"enocde_2\",\"enocde_3\",\"enocde_4\",\"enocde_5\",\"enocde_6\",\"enocde_7\",\"enocde_8\",\"enocde_9\",\"enocde_10\",\"enocde_11\",\"h_total\",\"implicit_val\",\"degree\",\"aromatic\"]\n",
    "    path=\"C:\\\\Users\\\\ASUS\\\\Desktop\\\\Courses-IITM\\\\ch5650\\\\Project\\\\Data\\\\\"+file_list[i][55:62]+\".csv\"\n",
    "    dataset.to_csv(path,index=False)"
   ]
  },
  {
   "cell_type": "markdown",
   "id": "14ea44d8",
   "metadata": {},
   "source": [
    "# Adjacency matrix"
   ]
  },
  {
   "cell_type": "code",
   "execution_count": 11,
   "id": "a1c798bc",
   "metadata": {},
   "outputs": [],
   "source": [
    "\n",
    "for i in range(0,len(file_list)):    \n",
    "    m_try=Chem.MolFromMolFile(file_list[i])\n",
    "    adj=Chem.rdmolops.GetAdjacencyMatrix(m_try)\n",
    "    dset=pd.DataFrame(np.array(adj))\n",
    "    path=\"C:\\\\Users\\\\ASUS\\\\Desktop\\\\Courses-IITM\\\\ch5650\\\\Project\\\\Data\\\\Adj\\\\\"+file_list[i][55:62]+\"_adj\"+\".csv\"\n",
    "    dset.to_csv(path,index=False,header=False)"
   ]
  },
  {
   "cell_type": "code",
   "execution_count": null,
   "id": "3c0f4a47",
   "metadata": {},
   "outputs": [],
   "source": []
  }
 ],
 "metadata": {
  "kernelspec": {
   "display_name": "Python 3 (ipykernel)",
   "language": "python",
   "name": "python3"
  },
  "language_info": {
   "codemirror_mode": {
    "name": "ipython",
    "version": 3
   },
   "file_extension": ".py",
   "mimetype": "text/x-python",
   "name": "python",
   "nbconvert_exporter": "python",
   "pygments_lexer": "ipython3",
   "version": "3.8.12"
  }
 },
 "nbformat": 4,
 "nbformat_minor": 5
}
