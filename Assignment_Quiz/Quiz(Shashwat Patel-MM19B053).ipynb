{
 "cells": [
  {
   "cell_type": "markdown",
   "id": "4249dc2f",
   "metadata": {},
   "source": [
    "# Import Libraries"
   ]
  },
  {
   "cell_type": "code",
   "execution_count": 1,
   "id": "2fe73d54",
   "metadata": {},
   "outputs": [],
   "source": [
    "import pandas as pd\n",
    "import numpy as np\n",
    "import matplotlib.pyplot as plt\n",
    "from sklearn.preprocessing import StandardScaler\n",
    "from sklearn.model_selection import train_test_split\n",
    "from sklearn.decomposition import PCA, KernelPCA\n",
    "from sklearn.cluster import KMeans\n",
    "import seaborn as sns\n"
   ]
  },
  {
   "cell_type": "markdown",
   "id": "d629c62d",
   "metadata": {},
   "source": [
    "# Reading the data "
   ]
  },
  {
   "cell_type": "code",
   "execution_count": 2,
   "id": "79a9b65f",
   "metadata": {},
   "outputs": [],
   "source": [
    "data=pd.read_csv(\"C:\\\\Users\\\\ASUS\\\\Desktop\\\\Courses-IITM\\\\ch5650\\\\Quiz\\\\Polymer.data\",header=None)"
   ]
  },
  {
   "cell_type": "code",
   "execution_count": 8,
   "id": "19a19564",
   "metadata": {},
   "outputs": [
    {
     "data": {
      "text/plain": [
       "(1314540, 1)"
      ]
     },
     "execution_count": 8,
     "metadata": {},
     "output_type": "execute_result"
    }
   ],
   "source": [
    "drt=np.array(data)\n"
   ]
  },
  {
   "cell_type": "markdown",
   "id": "2ba15c3a",
   "metadata": {},
   "source": [
    "# Tidy up the dataset"
   ]
  },
  {
   "cell_type": "code",
   "execution_count": 9,
   "id": "0bfd5fd5",
   "metadata": {},
   "outputs": [
    {
     "data": {
      "text/plain": [
       "(1206000,)"
      ]
     },
     "execution_count": 9,
     "metadata": {},
     "output_type": "execute_result"
    }
   ],
   "source": [
    "arr_new = np.delete(drt,[range(0,1314540,109), range(1,1314540,109),range(2,1314540,109),\n",
    "                         range(3,1314540,109),range(4,1314540,109),range(5,1314540,109), \n",
    "                          range(6,1314540,109),range(7,1314540,109),range(8,1314540,109)])\n"
   ]
  },
  {
   "cell_type": "code",
   "execution_count": 10,
   "id": "958c6423",
   "metadata": {},
   "outputs": [],
   "source": [
    "dat=[]\n",
    "for i in range(0,1206000):\n",
    "    da=arr_new[i].split(\" \")\n",
    "    dat.append(da)"
   ]
  },
  {
   "cell_type": "code",
   "execution_count": 11,
   "id": "1af707b4",
   "metadata": {},
   "outputs": [],
   "source": [
    "Data=pd.DataFrame(dat)\n"
   ]
  },
  {
   "cell_type": "markdown",
   "id": "b8256ae8",
   "metadata": {},
   "source": [
    "# Required Data"
   ]
  },
  {
   "cell_type": "code",
   "execution_count": 12,
   "id": "c2453cb0",
   "metadata": {},
   "outputs": [],
   "source": [
    "Data=Data.drop([0,1,2,6,7,8,9],axis=1)\n",
    "Data"
   ]
  },
  {
   "cell_type": "code",
   "execution_count": 13,
   "id": "546e9558",
   "metadata": {},
   "outputs": [],
   "source": [
    "dat=np.array(Data)\n",
    "dat=dat.reshape(12060,300)"
   ]
  },
  {
   "cell_type": "code",
   "execution_count": 14,
   "id": "4ad2f29e",
   "metadata": {},
   "outputs": [],
   "source": [
    "Data.columns=[\"x\",\"y\",\"z\"]\n",
    "Data['x'] = pd.to_numeric(Data['x'],errors = 'coerce')\n",
    "Data['y'] = pd.to_numeric(Data['y'],errors = 'coerce')\n",
    "Data['z'] = pd.to_numeric(Data['z'],errors = 'coerce')\n",
    "\n"
   ]
  },
  {
   "cell_type": "markdown",
   "id": "fe1703dd",
   "metadata": {},
   "source": [
    "# PCA"
   ]
  },
  {
   "cell_type": "code",
   "execution_count": 53,
   "id": "076df42e",
   "metadata": {},
   "outputs": [],
   "source": [
    "pca = PCA(n_components = 2)\n",
    " \n",
    "principalComponents= pca.fit_transform(Data)\n",
    "\n",
    "principalDf = pd.DataFrame(data = principalComponents\n",
    "             , columns = ['principal component 1', 'principal component 2'])"
   ]
  },
  {
   "cell_type": "code",
   "execution_count": 18,
   "id": "168df55b",
   "metadata": {},
   "outputs": [
    {
     "data": {
      "text/plain": [
       "0         -1.624075\n",
       "1         -3.229281\n",
       "2          0.255770\n",
       "3         -2.338818\n",
       "4         -2.022219\n",
       "             ...   \n",
       "1205995   -0.974697\n",
       "1205996    1.397147\n",
       "1205997    1.613507\n",
       "1205998    2.297091\n",
       "1205999    3.147432\n",
       "Name: principal component 2, Length: 1206000, dtype: float64"
      ]
     },
     "execution_count": 18,
     "metadata": {},
     "output_type": "execute_result"
    }
   ],
   "source": [
    "principalDf"
   ]
  },
  {
   "cell_type": "code",
   "execution_count": 54,
   "id": "60a1f204",
   "metadata": {},
   "outputs": [
    {
     "data": {
      "text/plain": [
       "<matplotlib.collections.PathCollection at 0x159c00bbe50>"
      ]
     },
     "execution_count": 54,
     "metadata": {},
     "output_type": "execute_result"
    },
    {
     "data": {
      "image/png": "[encoded data removed]",
      "text/plain": [
       "<Figure size 432x288 with 1 Axes>"
      ]
     },
     "metadata": {
      "needs_background": "light"
     },
     "output_type": "display_data"
    }
   ],
   "source": [
    "x=np.array(principalDf.iloc[:,0])\n",
    "y=np.array(principalDf.iloc[:,1])\n",
    "plt.xlabel(\"Component 1\")\n",
    "plt.ylabel(\"Component 2\")\n",
    "plt.scatter(x,y)"
   ]
  },
  {
   "cell_type": "markdown",
   "id": "2c234942",
   "metadata": {},
   "source": [
    "# Kernel PCA"
   ]
  },
  {
   "cell_type": "code",
   "execution_count": 22,
   "id": "350b395e",
   "metadata": {},
   "outputs": [
    {
     "data": {
      "text/html": [
       "<div>\n",
       "<style scoped>\n",
       "    .dataframe tbody tr th:only-of-type {\n",
       "        vertical-align: middle;\n",
       "    }\n",
       "\n",
       "    .dataframe tbody tr th {\n",
       "        vertical-align: top;\n",
       "    }\n",
       "\n",
       "    .dataframe thead th {\n",
       "        text-align: right;\n",
       "    }\n",
       "</style>\n",
       "<table border=\"1\" class=\"dataframe\">\n",
       "  <thead>\n",
       "    <tr style=\"text-align: right;\">\n",
       "      <th></th>\n",
       "      <th>0</th>\n",
       "      <th>1</th>\n",
       "      <th>2</th>\n",
       "      <th>3</th>\n",
       "      <th>4</th>\n",
       "      <th>5</th>\n",
       "      <th>6</th>\n",
       "      <th>7</th>\n",
       "      <th>8</th>\n",
       "      <th>9</th>\n",
       "      <th>...</th>\n",
       "      <th>290</th>\n",
       "      <th>291</th>\n",
       "      <th>292</th>\n",
       "      <th>293</th>\n",
       "      <th>294</th>\n",
       "      <th>295</th>\n",
       "      <th>296</th>\n",
       "      <th>297</th>\n",
       "      <th>298</th>\n",
       "      <th>299</th>\n",
       "    </tr>\n",
       "  </thead>\n",
       "  <tbody>\n",
       "    <tr>\n",
       "      <th>0</th>\n",
       "      <td>-2.20243</td>\n",
       "      <td>-5.29512</td>\n",
       "      <td>-4.4049</td>\n",
       "      <td>-0.574106</td>\n",
       "      <td>-4.73233</td>\n",
       "      <td>-5.02726</td>\n",
       "      <td>-6.78421</td>\n",
       "      <td>-4.33292</td>\n",
       "      <td>-5.62459</td>\n",
       "      <td>-2.43637</td>\n",
       "      <td>...</td>\n",
       "      <td>-6.0832</td>\n",
       "      <td>-9.00123</td>\n",
       "      <td>-5.64206</td>\n",
       "      <td>-6.74807</td>\n",
       "      <td>-8.4009</td>\n",
       "      <td>-6.59056</td>\n",
       "      <td>-6.12753</td>\n",
       "      <td>-6.94776</td>\n",
       "      <td>-6.29786</td>\n",
       "      <td>-6.09497</td>\n",
       "    </tr>\n",
       "    <tr>\n",
       "      <th>1</th>\n",
       "      <td>-1.785</td>\n",
       "      <td>-5.64968</td>\n",
       "      <td>-5.08435</td>\n",
       "      <td>-0.444601</td>\n",
       "      <td>-5.20147</td>\n",
       "      <td>-5.17538</td>\n",
       "      <td>-6.08639</td>\n",
       "      <td>-4.80672</td>\n",
       "      <td>-5.49853</td>\n",
       "      <td>-2.31255</td>\n",
       "      <td>...</td>\n",
       "      <td>-5.77094</td>\n",
       "      <td>-8.78475</td>\n",
       "      <td>-6.17901</td>\n",
       "      <td>-6.54771</td>\n",
       "      <td>-8.75187</td>\n",
       "      <td>-7.60843</td>\n",
       "      <td>-5.69566</td>\n",
       "      <td>-6.9808</td>\n",
       "      <td>-5.59417</td>\n",
       "      <td>-5.36605</td>\n",
       "    </tr>\n",
       "    <tr>\n",
       "      <th>2</th>\n",
       "      <td>-2.71998</td>\n",
       "      <td>-6.36268</td>\n",
       "      <td>-5.05501</td>\n",
       "      <td>-1.82861</td>\n",
       "      <td>-5.03763</td>\n",
       "      <td>-5.71251</td>\n",
       "      <td>-6.50998</td>\n",
       "      <td>-3.68974</td>\n",
       "      <td>-4.21262</td>\n",
       "      <td>-1.98596</td>\n",
       "      <td>...</td>\n",
       "      <td>-5.20082</td>\n",
       "      <td>-9.28382</td>\n",
       "      <td>-6.53578</td>\n",
       "      <td>-5.63525</td>\n",
       "      <td>-9.22823</td>\n",
       "      <td>-7.965</td>\n",
       "      <td>-5.99084</td>\n",
       "      <td>-6.64429</td>\n",
       "      <td>-4.94194</td>\n",
       "      <td>-4.69566</td>\n",
       "    </tr>\n",
       "    <tr>\n",
       "      <th>3</th>\n",
       "      <td>-2.88735</td>\n",
       "      <td>-7.66943</td>\n",
       "      <td>-5.16378</td>\n",
       "      <td>-1.71509</td>\n",
       "      <td>-5.26339</td>\n",
       "      <td>-5.63451</td>\n",
       "      <td>-6.08733</td>\n",
       "      <td>-3.25552</td>\n",
       "      <td>-3.91928</td>\n",
       "      <td>-1.78564</td>\n",
       "      <td>...</td>\n",
       "      <td>-4.59964</td>\n",
       "      <td>-9.2115</td>\n",
       "      <td>-6.64044</td>\n",
       "      <td>-5.49961</td>\n",
       "      <td>-9.18224</td>\n",
       "      <td>-7.92595</td>\n",
       "      <td>-6.53587</td>\n",
       "      <td>-5.70287</td>\n",
       "      <td>-4.51689</td>\n",
       "      <td>-3.88017</td>\n",
       "    </tr>\n",
       "    <tr>\n",
       "      <th>4</th>\n",
       "      <td>-2.1655</td>\n",
       "      <td>-9.26297</td>\n",
       "      <td>-5.30298</td>\n",
       "      <td>-1.91775</td>\n",
       "      <td>-5.69765</td>\n",
       "      <td>-6.35435</td>\n",
       "      <td>-6.40865</td>\n",
       "      <td>-2.23192</td>\n",
       "      <td>-3.51107</td>\n",
       "      <td>-1.94179</td>\n",
       "      <td>...</td>\n",
       "      <td>-3.3656</td>\n",
       "      <td>-8.42255</td>\n",
       "      <td>-6.55924</td>\n",
       "      <td>-6.02235</td>\n",
       "      <td>-9.75842</td>\n",
       "      <td>-7.04083</td>\n",
       "      <td>-7.3203</td>\n",
       "      <td>-6.3789</td>\n",
       "      <td>-3.51498</td>\n",
       "      <td>-3.83486</td>\n",
       "    </tr>\n",
       "    <tr>\n",
       "      <th>...</th>\n",
       "      <td>...</td>\n",
       "      <td>...</td>\n",
       "      <td>...</td>\n",
       "      <td>...</td>\n",
       "      <td>...</td>\n",
       "      <td>...</td>\n",
       "      <td>...</td>\n",
       "      <td>...</td>\n",
       "      <td>...</td>\n",
       "      <td>...</td>\n",
       "      <td>...</td>\n",
       "      <td>...</td>\n",
       "      <td>...</td>\n",
       "      <td>...</td>\n",
       "      <td>...</td>\n",
       "      <td>...</td>\n",
       "      <td>...</td>\n",
       "      <td>...</td>\n",
       "      <td>...</td>\n",
       "      <td>...</td>\n",
       "      <td>...</td>\n",
       "    </tr>\n",
       "    <tr>\n",
       "      <th>12055</th>\n",
       "      <td>-22.4734</td>\n",
       "      <td>-15.074</td>\n",
       "      <td>-18.9985</td>\n",
       "      <td>-21.7767</td>\n",
       "      <td>-15.0048</td>\n",
       "      <td>-22.3328</td>\n",
       "      <td>-22.5449</td>\n",
       "      <td>-13.3507</td>\n",
       "      <td>-22.3141</td>\n",
       "      <td>-22.3394</td>\n",
       "      <td>...</td>\n",
       "      <td>-18.8874</td>\n",
       "      <td>-22.0067</td>\n",
       "      <td>-15.7503</td>\n",
       "      <td>-19.4613</td>\n",
       "      <td>-21.8221</td>\n",
       "      <td>-15.4879</td>\n",
       "      <td>-18.3966</td>\n",
       "      <td>-21.9775</td>\n",
       "      <td>-14.5259</td>\n",
       "      <td>-18.3052</td>\n",
       "    </tr>\n",
       "    <tr>\n",
       "      <th>12056</th>\n",
       "      <td>-22.1418</td>\n",
       "      <td>-15.0633</td>\n",
       "      <td>-19.5311</td>\n",
       "      <td>-22.2287</td>\n",
       "      <td>-15.1478</td>\n",
       "      <td>-22.3438</td>\n",
       "      <td>-22.2286</td>\n",
       "      <td>-13.8272</td>\n",
       "      <td>-21.9286</td>\n",
       "      <td>-22.8655</td>\n",
       "      <td>...</td>\n",
       "      <td>-18.9667</td>\n",
       "      <td>-21.8</td>\n",
       "      <td>-15.9069</td>\n",
       "      <td>-19.4003</td>\n",
       "      <td>-22.2359</td>\n",
       "      <td>-15.0115</td>\n",
       "      <td>-18.5557</td>\n",
       "      <td>-21.7888</td>\n",
       "      <td>-14.3418</td>\n",
       "      <td>-17.9322</td>\n",
       "    </tr>\n",
       "    <tr>\n",
       "      <th>12057</th>\n",
       "      <td>-21.5285</td>\n",
       "      <td>-15.1962</td>\n",
       "      <td>-18.7274</td>\n",
       "      <td>-22.3914</td>\n",
       "      <td>-15.0744</td>\n",
       "      <td>-22.4392</td>\n",
       "      <td>-22.469</td>\n",
       "      <td>-14.013</td>\n",
       "      <td>-22.054</td>\n",
       "      <td>-23.2793</td>\n",
       "      <td>...</td>\n",
       "      <td>-19.0226</td>\n",
       "      <td>-20.883</td>\n",
       "      <td>-15.8885</td>\n",
       "      <td>-18.5921</td>\n",
       "      <td>-22.4279</td>\n",
       "      <td>-14.7635</td>\n",
       "      <td>-18.4188</td>\n",
       "      <td>-21.6171</td>\n",
       "      <td>-14.8856</td>\n",
       "      <td>-17.8407</td>\n",
       "    </tr>\n",
       "    <tr>\n",
       "      <th>12058</th>\n",
       "      <td>-21.3121</td>\n",
       "      <td>-14.8368</td>\n",
       "      <td>-18.6916</td>\n",
       "      <td>-22.1587</td>\n",
       "      <td>-14.7453</td>\n",
       "      <td>-22.6243</td>\n",
       "      <td>-22.7021</td>\n",
       "      <td>-13.73</td>\n",
       "      <td>-22.3389</td>\n",
       "      <td>-23.0687</td>\n",
       "      <td>...</td>\n",
       "      <td>-18.7301</td>\n",
       "      <td>-20.9431</td>\n",
       "      <td>-15.6527</td>\n",
       "      <td>-18.3859</td>\n",
       "      <td>-21.9336</td>\n",
       "      <td>-14.7778</td>\n",
       "      <td>-18.0274</td>\n",
       "      <td>-21.9696</td>\n",
       "      <td>-14.3778</td>\n",
       "      <td>-17.173</td>\n",
       "    </tr>\n",
       "    <tr>\n",
       "      <th>12059</th>\n",
       "      <td>-21.1392</td>\n",
       "      <td>-14.8327</td>\n",
       "      <td>-18.5156</td>\n",
       "      <td>-22.3113</td>\n",
       "      <td>-14.6982</td>\n",
       "      <td>-22.3806</td>\n",
       "      <td>-22.8721</td>\n",
       "      <td>-13.6735</td>\n",
       "      <td>-22.5308</td>\n",
       "      <td>-22.5891</td>\n",
       "      <td>...</td>\n",
       "      <td>-18.9779</td>\n",
       "      <td>-20.7467</td>\n",
       "      <td>-15.7371</td>\n",
       "      <td>-18.315</td>\n",
       "      <td>-21.613</td>\n",
       "      <td>-14.3184</td>\n",
       "      <td>-17.8369</td>\n",
       "      <td>-22.314</td>\n",
       "      <td>-13.9175</td>\n",
       "      <td>-17.2156</td>\n",
       "    </tr>\n",
       "  </tbody>\n",
       "</table>\n",
       "<p>12060 rows × 300 columns</p>\n",
       "</div>"
      ],
      "text/plain": [
       "            0         1         2          3         4         5         6    \\\n",
       "0      -2.20243  -5.29512   -4.4049  -0.574106  -4.73233  -5.02726  -6.78421   \n",
       "1        -1.785  -5.64968  -5.08435  -0.444601  -5.20147  -5.17538  -6.08639   \n",
       "2      -2.71998  -6.36268  -5.05501   -1.82861  -5.03763  -5.71251  -6.50998   \n",
       "3      -2.88735  -7.66943  -5.16378   -1.71509  -5.26339  -5.63451  -6.08733   \n",
       "4       -2.1655  -9.26297  -5.30298   -1.91775  -5.69765  -6.35435  -6.40865   \n",
       "...         ...       ...       ...        ...       ...       ...       ...   \n",
       "12055  -22.4734   -15.074  -18.9985   -21.7767  -15.0048  -22.3328  -22.5449   \n",
       "12056  -22.1418  -15.0633  -19.5311   -22.2287  -15.1478  -22.3438  -22.2286   \n",
       "12057  -21.5285  -15.1962  -18.7274   -22.3914  -15.0744  -22.4392   -22.469   \n",
       "12058  -21.3121  -14.8368  -18.6916   -22.1587  -14.7453  -22.6243  -22.7021   \n",
       "12059  -21.1392  -14.8327  -18.5156   -22.3113  -14.6982  -22.3806  -22.8721   \n",
       "\n",
       "            7         8         9    ...       290       291       292  \\\n",
       "0      -4.33292  -5.62459  -2.43637  ...   -6.0832  -9.00123  -5.64206   \n",
       "1      -4.80672  -5.49853  -2.31255  ...  -5.77094  -8.78475  -6.17901   \n",
       "2      -3.68974  -4.21262  -1.98596  ...  -5.20082  -9.28382  -6.53578   \n",
       "3      -3.25552  -3.91928  -1.78564  ...  -4.59964   -9.2115  -6.64044   \n",
       "4      -2.23192  -3.51107  -1.94179  ...   -3.3656  -8.42255  -6.55924   \n",
       "...         ...       ...       ...  ...       ...       ...       ...   \n",
       "12055  -13.3507  -22.3141  -22.3394  ...  -18.8874  -22.0067  -15.7503   \n",
       "12056  -13.8272  -21.9286  -22.8655  ...  -18.9667     -21.8  -15.9069   \n",
       "12057   -14.013   -22.054  -23.2793  ...  -19.0226   -20.883  -15.8885   \n",
       "12058    -13.73  -22.3389  -23.0687  ...  -18.7301  -20.9431  -15.6527   \n",
       "12059  -13.6735  -22.5308  -22.5891  ...  -18.9779  -20.7467  -15.7371   \n",
       "\n",
       "            293       294       295       296       297       298       299  \n",
       "0      -6.74807   -8.4009  -6.59056  -6.12753  -6.94776  -6.29786  -6.09497  \n",
       "1      -6.54771  -8.75187  -7.60843  -5.69566   -6.9808  -5.59417  -5.36605  \n",
       "2      -5.63525  -9.22823    -7.965  -5.99084  -6.64429  -4.94194  -4.69566  \n",
       "3      -5.49961  -9.18224  -7.92595  -6.53587  -5.70287  -4.51689  -3.88017  \n",
       "4      -6.02235  -9.75842  -7.04083   -7.3203   -6.3789  -3.51498  -3.83486  \n",
       "...         ...       ...       ...       ...       ...       ...       ...  \n",
       "12055  -19.4613  -21.8221  -15.4879  -18.3966  -21.9775  -14.5259  -18.3052  \n",
       "12056  -19.4003  -22.2359  -15.0115  -18.5557  -21.7888  -14.3418  -17.9322  \n",
       "12057  -18.5921  -22.4279  -14.7635  -18.4188  -21.6171  -14.8856  -17.8407  \n",
       "12058  -18.3859  -21.9336  -14.7778  -18.0274  -21.9696  -14.3778   -17.173  \n",
       "12059   -18.315   -21.613  -14.3184  -17.8369   -22.314  -13.9175  -17.2156  \n",
       "\n",
       "[12060 rows x 300 columns]"
      ]
     },
     "execution_count": 22,
     "metadata": {},
     "output_type": "execute_result"
    }
   ],
   "source": [
    "\n",
    "Data_reshape=pd.DataFrame(dat)\n",
    "Data_reshape"
   ]
  },
  {
   "cell_type": "code",
   "execution_count": 30,
   "id": "37392a96",
   "metadata": {},
   "outputs": [],
   "source": [
    "kernel_pca=KernelPCA(n_components=2,kernel='rbf')\n",
    "\n",
    "components=kernel_pca.fit_transform(Data_reshape)\n"
   ]
  },
  {
   "cell_type": "code",
   "execution_count": 44,
   "id": "65068d61",
   "metadata": {},
   "outputs": [
    {
     "data": {
      "text/plain": [
       "<matplotlib.collections.PathCollection at 0x159bf1d1160>"
      ]
     },
     "execution_count": 44,
     "metadata": {},
     "output_type": "execute_result"
    },
    {
     "data": {
      "image/png": "[encoded data removed]",
      "text/plain": [
       "<Figure size 432x288 with 1 Axes>"
      ]
     },
     "metadata": {
      "needs_background": "light"
     },
     "output_type": "display_data"
    }
   ],
   "source": [
    "\n",
    "Df_kernelPCA = pd.DataFrame(data = components\n",
    "             , columns = ['component 1', 'component 2'])\n",
    "\n",
    "x=np.array(Df_kernelPCA.iloc[:,0])\n",
    "y=np.array(Df_kernelPCA.iloc[:,1])\n",
    "plt.xlabel('Component 1')\n",
    "plt.ylabel('Component 2')\n",
    "plt.scatter(x,y)"
   ]
  },
  {
   "cell_type": "markdown",
   "id": "91e7f6a0",
   "metadata": {},
   "source": [
    "# Clustering\n",
    "\n",
    "### Elbow Method\n",
    "\n",
    "3 clusters seems to be good"
   ]
  },
  {
   "cell_type": "code",
   "execution_count": 50,
   "id": "b833f41d",
   "metadata": {},
   "outputs": [
    {
     "data": {
      "text/plain": [
       "Text(0, 0.5, 'WCSS')"
      ]
     },
     "execution_count": 50,
     "metadata": {},
     "output_type": "execute_result"
    },
    {
     "data": {
      "image/png": "[encoded data removed]",
      "text/plain": [
       "<Figure size 720x576 with 1 Axes>"
      ]
     },
     "metadata": {
      "needs_background": "light"
     },
     "output_type": "display_data"
    }
   ],
   "source": [
    "scores=[]\n",
    "for i in range(1,9):\n",
    "    kmeans=KMeans(n_clusters=i,init='k-means++',random_state=42)\n",
    "    kmeans.fit(Df_kernelPCA)\n",
    "    scores.append(kmeans.inertia_)\n",
    "\n",
    "plt.figure(figsize=(10,8))\n",
    "plt.plot(range(1,9),scores,marker=\"o\")\n",
    "plt.xlabel(\"Number of Clusters\")\n",
    "plt.ylabel(\"WCSS\")"
   ]
  },
  {
   "cell_type": "code",
   "execution_count": 56,
   "id": "d2b39acf",
   "metadata": {},
   "outputs": [],
   "source": [
    "kmeans_pca=KMeans(n_clusters=3,init='k-means++',random_state=42)"
   ]
  },
  {
   "cell_type": "code",
   "execution_count": 57,
   "id": "4b950d0d",
   "metadata": {},
   "outputs": [
    {
     "data": {
      "text/plain": [
       "KMeans(n_clusters=3, random_state=42)"
      ]
     },
     "execution_count": 57,
     "metadata": {},
     "output_type": "execute_result"
    }
   ],
   "source": [
    "kmeans_pca.fit(Df_kernelPCA)"
   ]
  },
  {
   "cell_type": "code",
   "execution_count": 58,
   "id": "42e904e5",
   "metadata": {},
   "outputs": [],
   "source": [
    "Df_kernelPCA['kmeans_label']=kmeans_pca.labels_"
   ]
  },
  {
   "cell_type": "code",
   "execution_count": 59,
   "id": "57780d04",
   "metadata": {},
   "outputs": [
    {
     "name": "stderr",
     "output_type": "stream",
     "text": [
      "C:\\Users\\ASUS\\Anaconda3\\envs\\tensorflow_env\\lib\\site-packages\\seaborn\\_decorators.py:36: FutureWarning: Pass the following variables as keyword args: x, y. From version 0.12, the only valid positional argument will be `data`, and passing other arguments without an explicit keyword will result in an error or misinterpretation.\n",
      "  warnings.warn(\n"
     ]
    },
    {
     "data": {
      "text/plain": [
       "Text(0, 0.5, 'Component 2')"
      ]
     },
     "execution_count": 59,
     "metadata": {},
     "output_type": "execute_result"
    },
    {
     "data": {
      "image/png": "[encoded data removed]",
      "text/plain": [
       "<Figure size 432x288 with 1 Axes>"
      ]
     },
     "metadata": {
      "needs_background": "light"
     },
     "output_type": "display_data"
    }
   ],
   "source": [
    "\n",
    "x=np.array(Df_kernelPCA.iloc[:,0])\n",
    "y=np.array(Df_kernelPCA.iloc[:,1])\n",
    "\n",
    "plot=sns.scatterplot(x,y,hue=Df_kernelPCA['kmeans_label'],palette=['r','g','b'])\n",
    "plot.set_xlabel('Component 1')\n",
    "plot.set_ylabel('Component 2')"
   ]
  },
  {
   "cell_type": "markdown",
   "id": "f1f7c34c",
   "metadata": {},
   "source": [
    "# No of possible phases according to my analysis:3"
   ]
  },
  {
   "cell_type": "code",
   "execution_count": 1,
   "id": "10f50733",
   "metadata": {},
   "outputs": [],
   "source": [
    "import matplotlib.pyplot as plt\n",
    "x=[1,2,3]\n",
    "y=[1,2,3]\n"
   ]
  },
  {
   "cell_type": "code",
   "execution_count": 3,
   "id": "967c40f3",
   "metadata": {},
   "outputs": [
    {
     "data": {
      "text/plain": [
       "(array([1., 0., 0., 0., 0., 1., 0., 0., 0., 1.]),\n",
       " array([1. , 1.2, 1.4, 1.6, 1.8, 2. , 2.2, 2.4, 2.6, 2.8, 3. ]),\n",
       " <BarContainer object of 10 artists>)"
      ]
     },
     "execution_count": 3,
     "metadata": {},
     "output_type": "execute_result"
    },
    {
     "data": {
      "image/png": "[encoded data removed]",
      "text/plain": [
       "<Figure size 432x288 with 1 Axes>"
      ]
     },
     "metadata": {
      "needs_background": "light"
     },
     "output_type": "display_data"
    }
   ],
   "source": [
    "plt.hist(y)"
   ]
  },
  {
   "cell_type": "code",
   "execution_count": null,
   "id": "a4940915",
   "metadata": {},
   "outputs": [],
   "source": []
  }
 ],
 "metadata": {
  "kernelspec": {
   "display_name": "Python 3 (ipykernel)",
   "language": "python",
   "name": "python3"
  },
  "language_info": {
   "codemirror_mode": {
    "name": "ipython",
    "version": 3
   },
   "file_extension": ".py",
   "mimetype": "text/x-python",
   "name": "python",
   "nbconvert_exporter": "python",
   "pygments_lexer": "ipython3",
   "version": "3.8.12"
  }
 },
 "nbformat": 4,
 "nbformat_minor": 5
}
